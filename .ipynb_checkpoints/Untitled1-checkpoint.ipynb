{
 "cells": [
  {
   "cell_type": "code",
   "execution_count": 2,
   "metadata": {},
   "outputs": [],
   "source": [
    "import numpy as np\n",
    "from helpers import *\n",
    "from implementations import *"
   ]
  },
  {
   "cell_type": "code",
   "execution_count": 7,
   "metadata": {},
   "outputs": [
    {
     "data": {
      "text/plain": [
       "(6,)"
      ]
     },
     "execution_count": 7,
     "metadata": {},
     "output_type": "execute_result"
    }
   ],
   "source": [
    "np.shape(np.linspace(0,5,6))"
   ]
  },
  {
   "cell_type": "code",
   "execution_count": 22,
   "metadata": {},
   "outputs": [],
   "source": [
    "def k_fold_cross_validation(x, y, k, test_pos, seed = 1):\n",
    "    \"\"\"split the data into k parts\"\"\"\n",
    "    \n",
    "    n_sample = len(y)\n",
    "    if (n_sample%k != 0):\n",
    "        raise ValueError('k does not divide the number of samples')\n",
    "    elif (test_pos > k or test_pos < 1):\n",
    "        raise ValueError('test_pos is not in [1,k]')\n",
    "    else:\n",
    "        n_subsample = n_sample // k\n",
    "        \n",
    "        indices_train1 = np.linspace(0, n_subsample * (test_pos-1) -1, n_subsample * test_pos).astype(int)\n",
    "        indices_test = np.linspace(n_subsample * (test_pos-1), n_subsample*test_pos -1, n_subsample).astype(int)\n",
    "        indices_train2 = np.linspace(n_subsample*test_pos, n_sample -1, n_subsample * (k - 1 - test_pos)).astype(int)\n",
    "        indices_train = np.r_[indices_train1, indices_train2]\n",
    "        \n",
    "        x_train = x[indices_train,:]\n",
    "        x_test = x[indices_test,:]\n",
    "        y_train = y[indices_train]\n",
    "        y_test = y[indices_test]\n",
    "        \n",
    "        #x_train1 = x[0:n_subsample * (test_pos-1)-1,:]\n",
    "        #x_test = x[n_subsample * (test_pos-1):n_subsample*test_pos -1,:]\n",
    "        #x_train2 = x[n_subsample*test_pos:end,:]\n",
    "        #x_train = np.r_[x_train1, x_train2]\n",
    "        \n",
    "        \n",
    "        return x_train, y_train, x_test, y_test"
   ]
  },
  {
   "cell_type": "code",
   "execution_count": 9,
   "metadata": {},
   "outputs": [],
   "source": [
    "x, y = load_data('train.csv')"
   ]
  },
  {
   "cell_type": "code",
   "execution_count": 24,
   "metadata": {},
   "outputs": [
    {
     "name": "stderr",
     "output_type": "stream",
     "text": [
      "/anaconda3/lib/python3.6/site-packages/ipykernel_launcher.py:12: DeprecationWarning: object of type <class 'float'> cannot be safely interpreted as an integer.\n",
      "  if sys.path[0] == '':\n",
      "/anaconda3/lib/python3.6/site-packages/ipykernel_launcher.py:13: DeprecationWarning: object of type <class 'float'> cannot be safely interpreted as an integer.\n",
      "  del sys.path[0]\n",
      "/anaconda3/lib/python3.6/site-packages/ipykernel_launcher.py:14: DeprecationWarning: object of type <class 'float'> cannot be safely interpreted as an integer.\n",
      "  \n"
     ]
    }
   ],
   "source": [
    "x_train, y_train, x_test, y_test = k_fold_cross_validation(x, y, 5, 1, seed = 1)"
   ]
  },
  {
   "cell_type": "code",
   "execution_count": 16,
   "metadata": {},
   "outputs": [
    {
     "data": {
      "text/plain": [
       "array([ 0.,  1.,  2.,  3.,  4.,  5.,  6.,  7.,  8.,  9., 10., 11.])"
      ]
     },
     "execution_count": 16,
     "metadata": {},
     "output_type": "execute_result"
    }
   ],
   "source": [
    "np.r_[np.linspace(0,5,6), np.linspace(6,11,6)]"
   ]
  },
  {
   "cell_type": "code",
   "execution_count": 19,
   "metadata": {},
   "outputs": [
    {
     "data": {
      "text/plain": [
       "array([0, 1, 2, 3, 4, 5])"
      ]
     },
     "execution_count": 19,
     "metadata": {},
     "output_type": "execute_result"
    }
   ],
   "source": [
    "np.linspace(0,5,6).astype(int)"
   ]
  },
  {
   "cell_type": "code",
   "execution_count": null,
   "metadata": {},
   "outputs": [],
   "source": []
  }
 ],
 "metadata": {
  "kernelspec": {
   "display_name": "Python 3",
   "language": "python",
   "name": "python3"
  },
  "language_info": {
   "codemirror_mode": {
    "name": "ipython",
    "version": 3
   },
   "file_extension": ".py",
   "mimetype": "text/x-python",
   "name": "python",
   "nbconvert_exporter": "python",
   "pygments_lexer": "ipython3",
   "version": "3.6.5"
  }
 },
 "nbformat": 4,
 "nbformat_minor": 2
}
