{
 "cells": [
  {
   "cell_type": "code",
   "execution_count": 2,
   "metadata": {},
   "outputs": [],
   "source": [
    "import numpy as np\n",
    "from helpers import *\n",
    "from implementations import *\n",
    "from split_data import *\n",
    "x, y = load_data('train.csv')\n",
    "x = standardize(x)[0]\n",
    "tx = np.c_[np.ones(len(y)), x]"
   ]
  },
  {
   "cell_type": "code",
   "execution_count": 3,
   "metadata": {},
   "outputs": [],
   "source": [
    "tx_tr, tx_te, y_tr, y_te = split_data(x, y, 0.8, seed=1)"
   ]
  },
  {
   "cell_type": "code",
   "execution_count": 12,
   "metadata": {},
   "outputs": [],
   "source": [
    "w = least_squares(y_tr, tx_tr)[0]"
   ]
  },
  {
   "cell_type": "code",
   "execution_count": 24,
   "metadata": {},
   "outputs": [
    {
     "name": "stdout",
     "output_type": "stream",
     "text": [
      "Itération = 10000, ratio = 0.69238\n",
      "Itération = 20000, ratio = 0.691785\n",
      "Itération = 30000, ratio = 0.69641\n",
      "Itération = 40000, ratio = 0.6672899999999999\n",
      "Itération = 50000, ratio = 0.6965749999999999\n",
      "Itération = 60000, ratio = 0.717815\n",
      "Itération = 70000, ratio = 0.73282\n",
      "Itération = 80000, ratio = 0.71972\n",
      "Itération = 90000, ratio = 0.69943\n",
      "Itération = 100000, ratio = 0.69784\n",
      "Itération = 110000, ratio = 0.7059599999999999\n",
      "Itération = 120000, ratio = 0.72048\n",
      "Itération = 130000, ratio = 0.7201500000000001\n",
      "Itération = 140000, ratio = 0.709795\n",
      "Itération = 150000, ratio = 0.714635\n",
      "Itération = 160000, ratio = 0.659115\n",
      "Itération = 170000, ratio = 0.713585\n",
      "Itération = 180000, ratio = 0.7263999999999999\n",
      "Itération = 190000, ratio = 0.7227950000000001\n",
      "Itération = 200000, ratio = 0.713775\n"
     ]
    }
   ],
   "source": [
    "w = logistic_regression3(y_tr, tx_tr, np.zeros((30,)), 1, 1000000, 0.01)[0]"
   ]
  },
  {
   "cell_type": "code",
   "execution_count": 14,
   "metadata": {},
   "outputs": [
    {
     "data": {
      "text/plain": [
       "0.7248399999999999"
      ]
     },
     "execution_count": 14,
     "metadata": {},
     "output_type": "execute_result"
    }
   ],
   "source": [
    "y_pred = sigmoid(np.dot(tx_te, w))\n",
    "classifier = lambda t: 1.0 if (t > 0.5) else 0.0\n",
    "classifier = np.vectorize(classifier)\n",
    "y_pred = classifier(y_pred)\n",
    "1 - sum(abs(y_te - y_pred)) / len(y_te)"
   ]
  },
  {
   "cell_type": "code",
   "execution_count": null,
   "metadata": {},
   "outputs": [],
   "source": []
  }
 ],
 "metadata": {
  "kernelspec": {
   "display_name": "Python 3",
   "language": "python",
   "name": "python3"
  },
  "language_info": {
   "codemirror_mode": {
    "name": "ipython",
    "version": 3
   },
   "file_extension": ".py",
   "mimetype": "text/x-python",
   "name": "python",
   "nbconvert_exporter": "python",
   "pygments_lexer": "ipython3",
   "version": "3.6.5"
  }
 },
 "nbformat": 4,
 "nbformat_minor": 2
}
